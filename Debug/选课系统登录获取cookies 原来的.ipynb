{
 "cells": [
  {
   "cell_type": "markdown",
   "metadata": {},
   "source": [
    "# 登录获取cookies\n",
    "先要获取login页面上的lt值"
   ]
  },
  {
   "cell_type": "code",
   "execution_count": 3,
   "metadata": {
    "collapsed": false
   },
   "outputs": [
    {
     "name": "stdout",
     "output_type": "stream",
     "text": [
      "LT-5959134-zEJhejAZvpq37XbVI5jA\n"
     ]
    }
   ],
   "source": [
    "import requests\n",
    "from bs4 import BeautifulSoup\n",
    "\n",
    "r = requests.get(\"http://cas.hdu.edu.cn/cas/login?service=http://jxgl.hdu.edu.cn/default.aspx\")\n",
    "soup = BeautifulSoup(r.text,\"lxml\")\n",
    "lt = soup.findAll(class_=\"loginpage_center_row pwd\")[0].findAll('input')[1][\"value\"]\n",
    "print(lt)"
   ]
  },
  {
   "cell_type": "markdown",
   "metadata": {},
   "source": [
    "## 向login页面发送post请求\n",
    "请求表单包括用户名、密码等，这里的lt必须是login页面生成的值，否则会请求失败<br>\n",
    "cookie为route、key_dcp_cas、dcp_cascookie<br>\n",
    "新的cookies为CASTGC<br>\n",
    "同时返回的页面上显示了一个带有ticket的url需要跳转"
   ]
  },
  {
   "cell_type": "code",
   "execution_count": 4,
   "metadata": {
    "collapsed": false
   },
   "outputs": [
    {
     "name": "stdout",
     "output_type": "stream",
     "text": [
      "{'CASTGC': 'TGC-5959135-psnTbb0oQh3dOzzAJ7Np99BwSODI3byfuJ60x3HKJTjDpXltni', 'key_dcp_cas': 'KBB9bGFXXBPxnth1LPPKbQGm7tQ3T1Ylc613Dtpt9JQNjX2CB1Px!-1635894608'}\n",
      "http://jxgl.hdu.edu.cn/default.aspx?ticket=ST-5959136-9Zw1UldfjseBqo1mrgdT\n"
     ]
    }
   ],
   "source": [
    "import requests\n",
    "\n",
    "cookies_login={'route':'4376efc7edf61c9fe699e82a2fb7a34f','key_dcp_cas':'Y6xFbFMGyhQp29ZVVL3hf1dLP5HsSRyx84pzwythbt2Ftz6v8PTp!-1635894608','dcp_cascookie':'16196108||7ac025c952fdef2d24df3f40e0e8960e4de7951b2d79e96bf78e06ce8913ed6700baa3c3||true'}\n",
    "\n",
    "headers = {'Accept': 'text/html,application/xhtml+xml,application/xml;q=0.9,image/webp,image/apng,*/*;q=0.8',\n",
    "            'Accept-Encoding': 'gzip, deflate',\n",
    "            'Accept-Language': 'zh-CN,zh;q=0.9',\n",
    "           'Cache-Control': 'max-age=0',\n",
    "            'Connection': 'keep-alive',\n",
    "           'Content-Length': '259',\n",
    "            'Content-Type': 'application/x-www-form-urlencoded',\n",
    "           'Origin': 'http://cas.hdu.edu.cn',\n",
    "           'Upgrade-Insecure-Requests': '1',\n",
    "            'Host': 'cas.hdu.edu.cn',\n",
    "           'User-Agent': 'Mozilla/5.0 (Windows NT 6.1; Win64; x64) AppleWebKit/537.36 (KHTML, like Gecko) Chrome/68.0.3440.106 Safari/537.36',\n",
    "           'Referer':'http://cas.hdu.edu.cn/cas/login?service=http://jxgl.hdu.edu.cn/default.aspx'\n",
    "          }\n",
    "\n",
    "r = requests.post(\"http://cas.hdu.edu.cn/cas/login\",\n",
    "                 headers = headers,\n",
    "                  cookies = cookies_login,\n",
    "#                  data=params)\n",
    "                 data='encodedService=http%253a%252f%252fjxgl.hdu.edu.cn%252fdefault.aspx&service=http%3A%2F%2Fjxgl.hdu.edu.cn%2Fdefault.aspx&serviceName=null&loginErrCnt=0&username=16196108&password=77023341bbe3d250643a708a971fac56&' \\\n",
    "                  +'lt=' + lt + '&autoLogin=true'\n",
    "                 )\n",
    "\n",
    "# r.encoding='gbk'\n",
    "CASTGC = r.cookies.get_dict()\n",
    "print(r.cookies.get_dict())\n",
    "soup = BeautifulSoup(r.text,\"lxml\")\n",
    "ticket_url = soup.find('a')['href']\n",
    "print(soup.find('a')['href'])"
   ]
  },
  {
   "cell_type": "markdown",
   "metadata": {},
   "source": [
    "## get上一个页面中要求跳转的url\n",
    "cookies为上一个页面新的cookies：CASTGC<br>\n",
    "新的cookies为route、key_dcp_cas<br>\n",
    "同时返回的页面上显示了一个带有ticket的url需要跳转"
   ]
  },
  {
   "cell_type": "code",
   "execution_count": 5,
   "metadata": {
    "collapsed": false
   },
   "outputs": [
    {
     "name": "stdout",
     "output_type": "stream",
     "text": [
      "{'route': '4376efc7edf61c9fe699e82a2fb7a34f'}\n",
      "http://jxdc.hdu.edu.cn/index.php?ticket=ST-5959139-VMqdIuT2gjTYu0hhk3SY\n"
     ]
    }
   ],
   "source": [
    "r = requests.get(ticket_url,cookies=CASTGC)\n",
    "print(r.cookies.get_dict())\n",
    "soup = BeautifulSoup(r.text,\"lxml\")\n",
    "ticket_url = soup.find('a')['href']\n",
    "print(soup.find('a')['href'])"
   ]
  },
  {
   "cell_type": "markdown",
   "metadata": {},
   "source": [
    "## 第二次get上一个页面中要求跳转的带有ticket的url\n",
    "cookies为上一个页面新的cookies：route、key_dcp_cas<br>\n",
    "新的cookies为PHPSESSID<br>\n",
    "本次返回页面要求跳转到http://jxgl.hdu.edu.cn/index.aspx"
   ]
  },
  {
   "cell_type": "code",
   "execution_count": 6,
   "metadata": {
    "collapsed": false
   },
   "outputs": [
    {
     "name": "stdout",
     "output_type": "stream",
     "text": [
      "{'PHPSESSID': '078b30f10713b3ffd3edb56e3fadde84'}\n",
      "<script language=\"javascript\">location.href='http://jxgl.hdu.edu.cn/index.aspx';</script>\n"
     ]
    }
   ],
   "source": [
    "cookies = r.cookies.get_dict()\n",
    "r = requests.get(ticket_url,cookies=cookies)\n",
    "print(r.cookies.get_dict())\n",
    "print(r.text)\n",
    "PHPSESSID = r.cookies.get_dict()"
   ]
  },
  {
   "cell_type": "markdown",
   "metadata": {},
   "source": [
    "## get跳转到http://jxgl.hdu.edu.cn/index.aspx\n",
    "本次cookies需要组装，分别是访问login是的三个cookies：key_dcp_cas、dcp_cascookie、route，和post请求返回的新cookies：CASTGC<br>\n",
    "再次要求跳转到一个带有ticket的url...（第三个了）"
   ]
  },
  {
   "cell_type": "code",
   "execution_count": 69,
   "metadata": {
    "collapsed": false
   },
   "outputs": [],
   "source": [
    "# print(cookies_login)"
   ]
  },
  {
   "cell_type": "code",
   "execution_count": 7,
   "metadata": {
    "collapsed": false
   },
   "outputs": [
    {
     "name": "stdout",
     "output_type": "stream",
     "text": [
      "{'route': '4376efc7edf61c9fe699e82a2fb7a34f', 'CASTGC': 'TGC-5959135-psnTbb0oQh3dOzzAJ7Np99BwSODI3byfuJ60x3HKJTjDpXltni', 'key_dcp_cas': 'Y6xFbFMGyhQp29ZVVL3hf1dLP5HsSRyx84pzwythbt2Ftz6v8PTp!-1635894608', 'dcp_cascookie': '16196108||7ac025c952fdef2d24df3f40e0e8960e4de7951b2d79e96bf78e06ce8913ed6700baa3c3||true'}\n"
     ]
    }
   ],
   "source": [
    "# 将第一个login页面的cookies，和请求的cookies，重新组装\n",
    "cookies_index = {'key_dcp_cas':cookies_login['key_dcp_cas'],'dcp_cascookie':cookies_login['dcp_cascookie'], \\\n",
    "                 'route':cookies_login['route'],'CASTGC': CASTGC['CASTGC']}\n",
    "\n",
    "print(cookies_index)"
   ]
  },
  {
   "cell_type": "code",
   "execution_count": 11,
   "metadata": {
    "collapsed": false
   },
   "outputs": [
    {
     "name": "stdout",
     "output_type": "stream",
     "text": [
      "{'route': '4376efc7edf61c9fe699e82a2fb7a34f'}\n",
      "http://jxgl.hdu.edu.cn/index.aspx?ticket=ST-5959163-z52J42QMJ3jvovCc882c\n"
     ]
    }
   ],
   "source": [
    "r = requests.get(\"http://jxgl.hdu.edu.cn/index.aspx\",cookies=cookies_index)\n",
    "# r = requests.get(\"http://jxgl.hdu.edu.cn/index.aspx\",cookies=CASTGC)\n",
    "print(r.cookies.get_dict())\n",
    "# print(r.text)\n",
    "soup = BeautifulSoup(r.text,\"lxml\")\n",
    "ticket_url = soup.find('a')['href']\n",
    "print(soup.find('a')['href'])"
   ]
  },
  {
   "cell_type": "markdown",
   "metadata": {},
   "source": [
    "## 跳转到新的带有ticket的URL后，得到可以直接登录选课系统的cookies\n",
    "ASP.NET_SessionId和route<br>\n",
    "虽然返回的页面上还是要求跳转到一个url，但可以不管了<br>\n",
    "执行这一段代码，会一直更新cookies"
   ]
  },
  {
   "cell_type": "code",
   "execution_count": 12,
   "metadata": {
    "collapsed": false
   },
   "outputs": [
    {
     "name": "stdout",
     "output_type": "stream",
     "text": [
      "{'ASP.NET_SessionId': 'f1xj0m454fndqzv5ipeyhg45', 'route': '3d0c690852e4ff1f04aa9cef8f2994ef'}\n"
     ]
    }
   ],
   "source": [
    "r = requests.get(ticket_url,cookies=PHPSESSID)\n",
    "print(r.cookies.get_dict())\n",
    "# print(r.text)"
   ]
  },
  {
   "cell_type": "markdown",
   "metadata": {},
   "source": [
    "## 利用cookies:ASP.NET_SessionId和route，直接get选课系统"
   ]
  },
  {
   "cell_type": "code",
   "execution_count": 8,
   "metadata": {
    "collapsed": false
   },
   "outputs": [],
   "source": [
    "cookies = r.cookies.get_dict()\n",
    "r = requests.get(\"http://jxgl.hdu.edu.cn/xs_main.aspx?xh=16196108\",cookies=cookies)\n",
    "# print(r.text)"
   ]
  },
  {
   "cell_type": "markdown",
   "metadata": {},
   "source": [
    "## 应用：爬成绩"
   ]
  },
  {
   "cell_type": "code",
   "execution_count": 9,
   "metadata": {
    "collapsed": false
   },
   "outputs": [
    {
     "name": "stdout",
     "output_type": "stream",
     "text": [
      "请输入学年：2017-2018\n",
      "请输入学期：1\n",
      "\t\t\t\t\t2017-2018学年第1学期学习成绩\n",
      "课程代码    课程名称                                      课程性质   学分\t 成绩\t 开课学院\t\n",
      "A1102080    跨文化交际                                    外语模块   2.0 \t 87 \t 外国语学院 \t\n",
      "C0399024    大学生创业基础                                创业教育   1.0 \t 99 \t   \t\n",
      "A0714040    概率论与数理统计                              公共必修   3.0 \t 87 \t 理学院 \t\n",
      "A2301020    马克思主义基本原理                            公共必修   2.0 \t 91 \t 马克思主义学院 \t\n",
      "A2301011    毛泽东思想和中国特色社会主义理论体系概论1     公共必修   3.0 \t 84 \t 马克思主义学院 \t\n",
      "W0001131    大学生职业发展与就业指导1                     课外必修   1.0 \t 95 \t 本科生院、党委学生工作部-招生就业处 \t\n",
      "W0001031    形势与政策1                                   课外必修   0.5 \t 优秀 \t 马克思主义学院 \t\n",
      "S0501260    程序设计课程设计                              实践       1.0 \t 优秀 \t 计算机学院 \t\n",
      "S0502250    数据结构课程设计                              实践       1.0 \t 95 \t 计算机学院 \t\n",
      "S0507900    数据库课程设计                                实践       1.0 \t 良好 \t 计算机学院 \t\n",
      "T1300001    体育-篮球(男)                                 校定必修   1.0 \t 93 \t 体育教学部 \t\n",
      "A0507042    离散数学2                                     学科必修   2.0 \t 82 \t 计算机学院 \t\n",
      "A0507020    数据结构（甲）                                学科必修   4.0 \t 92 \t 计算机学院 \t\n",
      "A0715052    物理学原理及工程应用2                         学科必修   3.0 \t 91 \t 理学院 \t\n",
      "A0508200    WEB应用程序设计(JAVA)                         专业必修   4.0 \t 93 \t 计算机学院 \t\n",
      "A0502570    数据库                                        专业必修   3.0 \t 90 \t 计算机学院 \t\n",
      "B0502740    C++程序设计                                   专业限选   4.0 \t 95 \t 计算机学院 \t\n"
     ]
    }
   ],
   "source": [
    "headers = {'Accept': 'text/html,application/xhtml+xml,application/xml;q=0.9,image/webp,image/apng,*/*;q=0.8',\n",
    "            'Accept-Encoding': 'gzip, deflate',\n",
    "            'Accept-Language': 'zh-CN,zh;q=0.9',\n",
    "           'Cache-Control': 'max-age=0',\n",
    "            'Connection': 'keep-alive',\n",
    "           'Content-Length': '7633',\n",
    "            'Content-Type': 'application/x-www-form-urlencoded',\n",
    "           'Origin': 'http://jxgl.hdu.edu.cn',\n",
    "           'Upgrade-Insecure-Requests': '1',\n",
    "            'Host': 'jxgl.hdu.edu.cn',\n",
    "           'User-Agent': 'Mozilla/5.0 (Windows NT 6.1; Win64; x64) AppleWebKit/537.36 (KHTML, like Gecko) Chrome/68.0.3440.106 Safari/537.36',\n",
    "           'Referer':'http://jxgl.hdu.edu.cn/xscjcx_dq.aspx?xh=16196108&xm=%u80e1%u9648%u6167&gnmkdm=N121605'# 修改\n",
    "          }\n",
    "\n",
    "params = {'__EVENTTARGET':'ddl_kcgs',\n",
    "          'ddl_kcgs': '%CD%A8%CA%B6%B1%D8%D0%DE',\n",
    "          'ddl_ywyl':'%D3%D0',\n",
    "          '__VIEWSTATE':'%2FwEPDwUKLTcxMzExNjMwMw8WBh4FZHFzemoFBDIwMTYeBHp5ZG0FBDA1MjceCXNvcnRPcmRlcgUFIGFzYyAWAgIBD2QWFAIBDw8WAh4EVGV4dAVv5aeT5ZCN77ya6IOh6ZmI5oWnJm5ic3A7Jm5ic3A7Jm5ic3A7Jm5ic3A75a2m6Zmi77ya6K6h566X5py65a2m6ZmiJm5ic3A7Jm5ic3A7Jm5ic3A7Jm5ic3A75LiT5Lia77ya6L2v5Lu25bel56iLZGQCAw8QDxYGHg1EYXRhVGV4dEZpZWxkBQRrY3h6Hg5EYXRhVmFsdWVGaWVsZAUEa2N4eh4LXyFEYXRhQm91bmRnZBAVDQzliJvkuJrmlZnogrIM57uP566h5Lu76YCJG%2BenkeaKgOWPkeWxleS4juenkeWtpueyvuelngznp5HmioDku7vpgIkM5YW25a6D5Lu76YCJG%2BS6uuaWh%2Be7j%2BWFuOS4juS6uuaWh%2BS%2FruWFuwzkurrmlofku7vpgIkb56S%2B5Lya5Y%2BR5bGV5LiO5YWs5rCR5pWZ6IKyDOWkluivreaooeWdlxvmlofmmI7lr7nor53kuI7lm73pmYXop4bph44S5b%2BD55CG5YGl5bq36YCJ5L%2BuG%2BiJuuacr%2BWIm%2BS9nOS4juWuoee%2BjuS9k%2BmqjAAVDQzliJvkuJrmlZnogrIM57uP566h5Lu76YCJG%2BenkeaKgOWPkeWxleS4juenkeWtpueyvuelngznp5HmioDku7vpgIkM5YW25a6D5Lu76YCJG%2BS6uuaWh%2Be7j%2BWFuOS4juS6uuaWh%2BS%2FruWFuwzkurrmlofku7vpgIkb56S%2B5Lya5Y%2BR5bGV5LiO5YWs5rCR5pWZ6IKyDOWkluivreaooeWdlxvmlofmmI7lr7nor53kuI7lm73pmYXop4bph44S5b%2BD55CG5YGl5bq36YCJ5L%2BuG%2BiJuuacr%2BWIm%2BS9nOS4juWuoee%2BjuS9k%2BmqjAAUKwMNZ2dnZ2dnZ2dnZ2dnZ2RkAgUPEGQPFgNmAgECAhYDEAUD5pyJBQPmnIlnEAUD5pegBQPml6BnEGVlZxYBZmQCBw8QDxYGHwQFBGtjZ3MfBQUEa2Nncx8GZ2QQFQsM5Yib5paw5a6e6Le1DOWIm%2BaWsOmAieS%2Frg%2FliJvkuJrpgJror4bor74P5Yib5Lia6YCJ5L%2Bu6K%2B%2BDOmAmuivhuW%2FheS%2FrhXpgJror4bpgInkv67moLjlv4Por74V6YCa6K%2BG6YCJ5L%2Bu5LiA6Iis6K%2B%2BD%2BagoemZhemAieS%2FruivvhXlv4PnkIblgaXlurfpgInkv67or74S5pm65oWn5qCR5re35ZCI5byPABULDOWIm%2BaWsOWunui3tQzliJvmlrDpgInkv64P5Yib5Lia6YCa6K%2BG6K%2B%2BD%2BWIm%2BS4mumAieS%2FruivvgzpgJror4blv4Xkv64V6YCa6K%2BG6YCJ5L%2Bu5qC45b%2BD6K%2B%2BFemAmuivhumAieS%2FruS4gOiIrOivvg%2FmoKHpmYXpgInkv67or74V5b%2BD55CG5YGl5bq36YCJ5L%2Bu6K%2B%2BEuaZuuaFp%2Bagkea3t%2BWQiOW8jwAUKwMLZ2dnZ2dnZ2dnZ2cWAQIBZAIJDxAPFgYfBAUEeHFtYx8FBQR4cWRtHwZnZBAVBgbkuIvmspkG5Lic5bKzBuaWh%2BS4gAbkuI3lrpoJ5Lic5qCh5Yy6CemdkuWxsea5lhUGATEBMgEzATQBNQE2FCsDBmdnZ2dnZxYBZmQCCw8QDxYGHwQFBHNrc2ofBQUEc2tzah8GZ2QQFQUk5ZGo5Zub56ysMTAsMTHoioJ756ysMS0xN%2BWRqHzlj4zlkah9JOWRqOS4gOesrDEwLDEx6IqCe%2BesrDEtMTflkah85Y%2BM5ZGofSLlkajkuIDnrKw4LDnoioJ756ysMS0xN%2BWRqHzlj4zlkah9G%2BWRqOS4gOesrDgsOeiKgnvnrKw1LTEy5ZGofQAVBSTlkajlm5vnrKwxMCwxMeiKgnvnrKwxLTE35ZGofOWPjOWRqH0k5ZGo5LiA56ysMTAsMTHoioJ756ysMS0xN%2BWRqHzlj4zlkah9IuWRqOS4gOesrDgsOeiKgnvnrKwxLTE35ZGofOWPjOWRqH0b5ZGo5LiA56ysOCw56IqCe%2BesrDUtMTLlkah9ABQrAwVnZ2dnZxYBAgRkAhEPDxYCHgdWaXNpYmxlaGRkAhYPPCsACwEADxYIHghEYXRhS2V5cxYAHgtfIUl0ZW1Db3VudGYeCVBhZ2VDb3VudAIBHhVfIURhdGFTb3VyY2VJdGVtQ291bnRmZGQCGA88KwALAQAPFggfCBYAHwkCAh8KAgEfCwICZBYCZg9kFgQCAQ9kFiBmDw8WAh8DBR4oMjAxOC0yMDE5LTEpLUMwMzk5MDA2LTQxNTc5LTFkZAIBDw8WAh8DBQzliJvkuJrnrqHnkIZkZAICDw8WAh8DBQnlvKDntKDlubNkZAIDDw8WAh8DBQMyLjBkZAIEDw8WAh8DBQcyLjAtMC4wZGQCBQ8PFgIfAwUFMDEtMTdkZAIGDw8WAh8DBQbkuIvmsplkZAIHDw8WAh8DBRvlkajkuoznrKw4LDnoioJ756ysMS0xN%2BWRqH1kZAIIDw8WAh8DBRPnrKw35pWZ56CU5qW85YyXMTE2ZGQCCQ8PFgIfAwUGJm5ic3A7ZGQCCg8PFgIfAwUBMGRkAgsPDxYCHwMFD%2BWIm%2BS4mumAmuivhuivvmRkAgwPDxYCHwMFDOWIm%2BS4muaVmeiCsmRkAg0PDxYCHwMFBuS4i%2BaymWRkAg4PDxYCHwMFBiZuYnNwO2RkAg8PDxYCHwMFBiZuYnNwO2RkAgIPZBYgZg8PFgIfAwUeKDIwMTgtMjAxOS0xKS1DNTY5MjAxNC0wNDEwMC0xZGQCAQ8PFgIfAwUY5LiW55WM5rCR5peP6Z%2Bz5LmQ5paH5YyWZGQCAg8PFgIfAwUJ5ZCV5Lic5pa5ZGQCAw8PFgIfAwUDMi4wZGQCBA8PFgIfAwUHMi4wLTAuMGRkAgUPDxYCHwMFBTAxLTE3ZGQCBg8PFgIfAwUG5LiL5rKZZGQCBw8PFgIfAwUb5ZGo5LiA56ysOCw56IqCe%2BesrDEtMTflkah9ZGQCCA8PFgIfAwUQ56ysM%2BaVmeeglOalvDEwNWRkAgkPDxYCHwMFBiZuYnNwO2RkAgoPDxYCHwMFATFkZAILDw8WAh8DBRXpgJror4bpgInkv67kuIDoiKzor75kZAIMDw8WAh8DBRvoibrmnK%2FliJvkvZzkuI7lrqHnvo7kvZPpqoxkZAINDw8WAh8DBQbkuIvmsplkZAIODw8WAh8DBQYmbmJzcDtkZAIPDw8WAh8DBQYmbmJzcDtkZAIdDzwrAAsBAA8WAh8HaGRkZA%3D%3D',\n",
    "          '__EVENTVALIDATION':'%2FwEWNQK%2BjfC0AgKP3%2B6lAgL91OO8DAK7isW0CgK%2Bt%2Fm1AQLNiMH%2FCgKS18q3CALJ27XlCgLm6%2FqHCgKhjbWVAQKA4u2DAwK2ga2CCgLQm9zvAwKCltOYCgKP3%2B6lAgKYyPTRDwK%2F4d%2B%2FAwLY7N%2B%2FAwKYyPTRDwKQrrE3AqmAsvEKAvLQ1bYHAsaAvr0HAvv236sBAveGxuwEAsuOjKoGAvPy%2BY8JAsqUzLUEAqrupp0JAt3ihPIMApCusTcC0OnS9g4C34b4mAIC3ob4mAIC3Yb4mAIC3Ib4mAIC24b4mAIC2ob4mAICxL%2Ffhw4CoY6Mgg4C66L56gEC6O2c7goCvoP7ww0CxL%2Ffhw4C7NGy6wYCu6uxhggChdn12wMCoMKT8Q0C2YiFpw8CvIH66gICkvvWnAsCjOeKxgYC05Tgxg0%3D',\n",
    "          'ddl_xqbs':'1',\n",
    "          'hidXNXQ':'2018-20191'\n",
    "    }\n",
    "xn = '2017-2018'\n",
    "xq = '1'\n",
    "\n",
    "xn = input('请输入学年：')\n",
    "xq = input('请输入学期：')\n",
    "r = requests.post(\"http://jxgl.hdu.edu.cn/xscjcx_dq.aspx?xh=16196108&xm=%u80e1%u9648%u6167&gnmkdm=N121605\",# 修改\n",
    "                 cookies=cookies,\n",
    "                 headers=headers,\n",
    "                 data='__EVENTTARGET=&__EVENTARGUMENT=&__LASTFOCUS=&__VIEWSTATE=%2FwEPDwULLTIxMDUwNTQwMjIPZBYCAgEPZBYGAgEPEGQQFRMACTIwMDEtMjAwMgkyMDAyLTIwMDMJMjAwMy0yMDA0CTIwMDQtMjAwNQkyMDA1LTIwMDYJMjAwNi0yMDA3CTIwMDctMjAwOAkyMDA4LTIwMDkJMjAwOS0yMDEwCTIwMTAtMjAxMQkyMDExLTIwMTIJMjAxMi0yMDEzCTIwMTMtMjAxNAkyMDE0LTIwMTUJMjAxNS0yMDE2CTIwMTYtMjAxNwkyMDE3LTIwMTgJMjAxOC0yMDE5FRMACTIwMDEtMjAwMgkyMDAyLTIwMDMJMjAwMy0yMDA0CTIwMDQtMjAwNQkyMDA1LTIwMDYJMjAwNi0yMDA3CTIwMDctMjAwOAkyMDA4LTIwMDkJMjAwOS0yMDEwCTIwMTAtMjAxMQkyMDExLTIwMTIJMjAxMi0yMDEzCTIwMTMtMjAxNAkyMDE0LTIwMTUJMjAxNS0yMDE2CTIwMTYtMjAxNwkyMDE3LTIwMTgJMjAxOC0yMDE5FCsDE2dnZ2dnZ2dnZ2dnZ2dnZ2dnZ2dkZAIHD2QWBmYPZBYCZg8WAh4JaW5uZXJodG1sBSUyMDE3LTIwMTjlrablubTnrKwx5a2m5pyf5a2m5Lmg5oiQ57upZAIBD2QWBmYPFgIfAAUR5a2m5Y%2B377yaMTYxOTYxMDhkAgEPFgIfAAUS5aeT5ZCN77ya6IOh6ZmI5oWnZAICDxYCHwAFGOWtpumZou%2B8muiuoeeul%2BacuuWtpumZomQCAg9kFgRmDxYCHwAFFeS4k%2BS4mu%2B8mui9r%2BS7tuW3peeoi2QCAQ8WAh8ABRTooYzmlL%2Fnj63vvJoxNjA1MjcxMWQCCQ88KwALAQAPFggeCERhdGFLZXlzFgAeC18hSXRlbUNvdW50AhEeCVBhZ2VDb3VudAIBHhVfIURhdGFTb3VyY2VJdGVtQ291bnQCEWQWAmYPZBYiAgEPZBYcZg8PFgIeBFRleHQFHigyMDE3LTIwMTgtMSktQTExMDIwODAtNDA0NDMtNWRkAgEPDxYCHwUFCTIwMTctMjAxOGRkAgIPDxYCHwUFATFkZAIDDw8WAh8FBQhBMTEwMjA4MGRkAgQPDxYCHwUFD%2Bi3qOaWh%2BWMluS6pOmZhWRkAgUPDxYCHwUFDOWkluivreaooeWdl2RkAgYPDxYCHwUFDOWFrOWFseW%2FheS%2FrmRkAgcPDxYCHwUFAzIuMGRkAggPDxYCHwUFAjg3ZGQCCQ8PFgIfBQUGJm5ic3A7ZGQCCg8PFgIfBQUGJm5ic3A7ZGQCCw8PFgIfBQUP5aSW5Zu96K%2Bt5a2m6ZmiZGQCDA8PFgIfBQUGJm5ic3A7ZGQCDQ8PFgIfBQUGJm5ic3A7ZGQCAg9kFhxmDw8WAh8FBR4oMjAxNy0yMDE4LTEpLUMwMzk5MDI0LTQxNjY5LTFkZAIBDw8WAh8FBQkyMDE3LTIwMThkZAICDw8WAh8FBQExZGQCAw8PFgIfBQUIQzAzOTkwMjRkZAIEDw8WAh8FBRXlpKflrabnlJ%2FliJvkuJrln7rnoYBkZAIFDw8WAh8FBQzliJvkuJrmlZnogrJkZAIGDw8WAh8FBQYmbmJzcDtkZAIHDw8WAh8FBQMxLjBkZAIIDw8WAh8FBQI5OWRkAgkPDxYCHwUFBiZuYnNwO2RkAgoPDxYCHwUFBiZuYnNwO2RkAgsPDxYCHwUFBiZuYnNwO2RkAgwPDxYCHwUFBiZuYnNwO2RkAg0PDxYCHwUFBiZuYnNwO2RkAgMPZBYcZg8PFgIfBQUeKDIwMTctMjAxOC0xKS1BMDcxNDA0MC00MDEyNS0xZGQCAQ8PFgIfBQUJMjAxNy0yMDE4ZGQCAg8PFgIfBQUBMWRkAgMPDxYCHwUFCEEwNzE0MDQwZGQCBA8PFgIfBQUY5qaC546H6K665LiO5pWw55CG57uf6K6hZGQCBQ8PFgIfBQUM5YWs5YWx5b%2BF5L%2BuZGQCBg8PFgIfBQUGJm5ic3A7ZGQCBw8PFgIfBQUDMy4wZGQCCA8PFgIfBQUCODdkZAIJDw8WAh8FBQYmbmJzcDtkZAIKDw8WAh8FBQYmbmJzcDtkZAILDw8WAh8FBQnnkIblrabpmaJkZAIMDw8WAh8FBQYmbmJzcDtkZAINDw8WAh8FBQYmbmJzcDtkZAIED2QWHGYPDxYCHwUFHigyMDE3LTIwMTgtMSktQTIzMDEwMjAtNDA3MTItMmRkAgEPDxYCHwUFCTIwMTctMjAxOGRkAgIPDxYCHwUFATFkZAIDDw8WAh8FBQhBMjMwMTAyMGRkAgQPDxYCHwUFG%2BmprOWFi%2BaAneS4u%2BS5ieWfuuacrOWOn%2BeQhmRkAgUPDxYCHwUFDOWFrOWFseW%2FheS%2FrmRkAgYPDxYCHwUFBiZuYnNwO2RkAgcPDxYCHwUFAzIuMGRkAggPDxYCHwUFAjkxZGQCCQ8PFgIfBQUGJm5ic3A7ZGQCCg8PFgIfBQUGJm5ic3A7ZGQCCw8PFgIfBQUV6ams5YWL5oCd5Li75LmJ5a2m6ZmiZGQCDA8PFgIfBQUGJm5ic3A7ZGQCDQ8PFgIfBQUGJm5ic3A7ZGQCBQ9kFhxmDw8WAh8FBR4oMjAxNy0yMDE4LTEpLUEyMzAxMDExLWxzbTk0LTFkZAIBDw8WAh8FBQkyMDE3LTIwMThkZAICDw8WAh8FBQExZGQCAw8PFgIfBQUIQTIzMDEwMTFkZAIEDw8WAh8FBT3mr5vms73kuJzmgJ3mg7PlkozkuK3lm73nibnoibLnpL7kvJrkuLvkuYnnkIborrrkvZPns7vmpoLorroxZGQCBQ8PFgIfBQUM5YWs5YWx5b%2BF5L%2BuZGQCBg8PFgIfBQUGJm5ic3A7ZGQCBw8PFgIfBQUDMy4wZGQCCA8PFgIfBQUCODRkZAIJDw8WAh8FBQYmbmJzcDtkZAIKDw8WAh8FBQYmbmJzcDtkZAILDw8WAh8FBRXpqazlhYvmgJ3kuLvkuYnlrabpmaJkZAIMDw8WAh8FBQYmbmJzcDtkZAINDw8WAh8FBQYmbmJzcDtkZAIGD2QWHGYPDxYCHwUFHigyMDE3LTIwMTgtMSktVzAwMDExMzEtNDEzNzAtMWRkAgEPDxYCHwUFCTIwMTctMjAxOGRkAgIPDxYCHwUFATFkZAIDDw8WAh8FBQhXMDAwMTEzMWRkAgQPDxYCHwUFJeWkp%2BWtpueUn%2BiBjOS4muWPkeWxleS4juWwseS4muaMh%2BWvvDFkZAIFDw8WAh8FBQzor77lpJblv4Xkv65kZAIGDw8WAh8FBQYmbmJzcDtkZAIHDw8WAh8FBQMxLjBkZAIIDw8WAh8FBQI5NWRkAgkPDxYCHwUFBiZuYnNwO2RkAgoPDxYCHwUFBiZuYnNwO2RkAgsPDxYCHwUFNOacrOenkeeUn%2BmZouOAgeWFmuWnlOWtpueUn%2BW3peS9nOmDqC3mi5vnlJ%2FlsLHkuJrlpIRkZAIMDw8WAh8FBQYmbmJzcDtkZAINDw8WAh8FBQYmbmJzcDtkZAIHD2QWHGYPDxYCHwUFHigyMDE3LTIwMTgtMSktVzAwMDEwMzEtNDA1MDktMWRkAgEPDxYCHwUFCTIwMTctMjAxOGRkAgIPDxYCHwUFATFkZAIDDw8WAh8FBQhXMDAwMTAzMWRkAgQPDxYCHwUFEOW9ouWKv%2BS4juaUv%2BetljFkZAIFDw8WAh8FBQzor77lpJblv4Xkv65kZAIGDw8WAh8FBQYmbmJzcDtkZAIHDw8WAh8FBQMwLjVkZAIIDw8WAh8FBQbkvJjnp4BkZAIJDw8WAh8FBQYmbmJzcDtkZAIKDw8WAh8FBQYmbmJzcDtkZAILDw8WAh8FBRXpqazlhYvmgJ3kuLvkuYnlrabpmaJkZAIMDw8WAh8FBQYmbmJzcDtkZAINDw8WAh8FBQYmbmJzcDtkZAIID2QWHGYPDxYCHwUFHigyMDE3LTIwMTgtMSktUzA1MDEyNjAtNDE2MzItMWRkAgEPDxYCHwUFCTIwMTctMjAxOGRkAgIPDxYCHwUFATFkZAIDDw8WAh8FBQhTMDUwMTI2MGRkAgQPDxYCHwUFGOeoi%2BW6j%2Biuvuiuoeivvueoi%2BiuvuiuoWRkAgUPDxYCHwUFBuWunui3tWRkAgYPDxYCHwUFBiZuYnNwO2RkAgcPDxYCHwUFAzEuMGRkAggPDxYCHwUFBuS8mOengGRkAgkPDxYCHwUFBiZuYnNwO2RkAgoPDxYCHwUFBiZuYnNwO2RkAgsPDxYCHwUFD%2Biuoeeul%2BacuuWtpumZomRkAgwPDxYCHwUFBiZuYnNwO2RkAg0PDxYCHwUFBiZuYnNwO2RkAgkPZBYcZg8PFgIfBQUeKDIwMTctMjAxOC0xKS1TMDUwMjI1MC00MTIwMi0xZGQCAQ8PFgIfBQUJMjAxNy0yMDE4ZGQCAg8PFgIfBQUBMWRkAgMPDxYCHwUFCFMwNTAyMjUwZGQCBA8PFgIfBQUY5pWw5o2u57uT5p6E6K%2B%2B56iL6K6%2B6K6hZGQCBQ8PFgIfBQUG5a6e6Le1ZGQCBg8PFgIfBQUGJm5ic3A7ZGQCBw8PFgIfBQUDMS4wZGQCCA8PFgIfBQUCOTVkZAIJDw8WAh8FBQYmbmJzcDtkZAIKDw8WAh8FBQYmbmJzcDtkZAILDw8WAh8FBQ%2ForqHnrpfmnLrlrabpmaJkZAIMDw8WAh8FBQYmbmJzcDtkZAINDw8WAh8FBQYmbmJzcDtkZAIKD2QWHGYPDxYCHwUFHigyMDE3LTIwMTgtMSktUzA1MDc5MDAtNDAzOTItMWRkAgEPDxYCHwUFCTIwMTctMjAxOGRkAgIPDxYCHwUFATFkZAIDDw8WAh8FBQhTMDUwNzkwMGRkAgQPDxYCHwUFFeaVsOaNruW6k%2Bivvueoi%2BiuvuiuoWRkAgUPDxYCHwUFBuWunui3tWRkAgYPDxYCHwUFBiZuYnNwO2RkAgcPDxYCHwUFAzEuMGRkAggPDxYCHwUFBuiJr%2BWlvWRkAgkPDxYCHwUFBiZuYnNwO2RkAgoPDxYCHwUFBiZuYnNwO2RkAgsPDxYCHwUFD%2Biuoeeul%2BacuuWtpumZomRkAgwPDxYCHwUFBiZuYnNwO2RkAg0PDxYCHwUFBiZuYnNwO2RkAgsPZBYcZg8PFgIfBQUeKDIwMTctMjAxOC0xKS1UMTMwMDAwMS0wNDE1Ni0zZGQCAQ8PFgIfBQUJMjAxNy0yMDE4ZGQCAg8PFgIfBQUBMWRkAgMPDxYCHwUFCFQxMzAwMDAxZGQCBA8PFgIfBQUS5L2T6IKyLeevrueQgyjnlLcpZGQCBQ8PFgIfBQUM5qCh5a6a5b%2BF5L%2BuZGQCBg8PFgIfBQUGJm5ic3A7ZGQCBw8PFgIfBQUDMS4wZGQCCA8PFgIfBQUCOTNkZAIJDw8WAh8FBQYmbmJzcDtkZAIKDw8WAh8FBQYmbmJzcDtkZAILDw8WAh8FBQ%2FkvZPogrLmlZnlrabpg6hkZAIMDw8WAh8FBQYmbmJzcDtkZAINDw8WAh8FBQYmbmJzcDtkZAIMD2QWHGYPDxYCHwUFHigyMDE3LTIwMTgtMSktQTA1MDcwNDItNDAzMjEtMWRkAgEPDxYCHwUFCTIwMTctMjAxOGRkAgIPDxYCHwUFATFkZAIDDw8WAh8FBQhBMDUwNzA0MmRkAgQPDxYCHwUFDeemu%2BaVo%2BaVsOWtpjJkZAIFDw8WAh8FBQzlrabnp5Hlv4Xkv65kZAIGDw8WAh8FBQYmbmJzcDtkZAIHDw8WAh8FBQMyLjBkZAIIDw8WAh8FBQI4MmRkAgkPDxYCHwUFBiZuYnNwO2RkAgoPDxYCHwUFBiZuYnNwO2RkAgsPDxYCHwUFD%2Biuoeeul%2BacuuWtpumZomRkAgwPDxYCHwUFBiZuYnNwO2RkAg0PDxYCHwUFBiZuYnNwO2RkAg0PZBYcZg8PFgIfBQUeKDIwMTctMjAxOC0xKS1BMDUwNzAyMC00MTIwMi0xZGQCAQ8PFgIfBQUJMjAxNy0yMDE4ZGQCAg8PFgIfBQUBMWRkAgMPDxYCHwUFCEEwNTA3MDIwZGQCBA8PFgIfBQUV5pWw5o2u57uT5p6E77yI55Sy77yJZGQCBQ8PFgIfBQUM5a2m56eR5b%2BF5L%2BuZGQCBg8PFgIfBQUGJm5ic3A7ZGQCBw8PFgIfBQUDNC4wZGQCCA8PFgIfBQUCOTJkZAIJDw8WAh8FBQYmbmJzcDtkZAIKDw8WAh8FBQYmbmJzcDtkZAILDw8WAh8FBQ%2ForqHnrpfmnLrlrabpmaJkZAIMDw8WAh8FBQYmbmJzcDtkZAINDw8WAh8FBQYmbmJzcDtkZAIOD2QWHGYPDxYCHwUFHigyMDE3LTIwMTgtMSktQTA3MTUwNTItNDAxMzItMmRkAgEPDxYCHwUFCTIwMTctMjAxOGRkAgIPDxYCHwUFATFkZAIDDw8WAh8FBQhBMDcxNTA1MmRkAgQPDxYCHwUFH%2BeJqeeQhuWtpuWOn%2BeQhuWPiuW3peeoi%2BW6lOeUqDJkZAIFDw8WAh8FBQzlrabnp5Hlv4Xkv65kZAIGDw8WAh8FBQYmbmJzcDtkZAIHDw8WAh8FBQMzLjBkZAIIDw8WAh8FBQI5MWRkAgkPDxYCHwUFBiZuYnNwO2RkAgoPDxYCHwUFBiZuYnNwO2RkAgsPDxYCHwUFCeeQhuWtpumZomRkAgwPDxYCHwUFBiZuYnNwO2RkAg0PDxYCHwUFBiZuYnNwO2RkAg8PZBYcZg8PFgIfBQUeKDIwMTctMjAxOC0xKS1BMDUwODIwMC00MDM5MC0xZGQCAQ8PFgIfBQUJMjAxNy0yMDE4ZGQCAg8PFgIfBQUBMWRkAgMPDxYCHwUFCEEwNTA4MjAwZGQCBA8PFgIfBQUbV0VC5bqU55So56iL5bqP6K6%2B6K6hKEpBVkEpZGQCBQ8PFgIfBQUM5LiT5Lia5b%2BF5L%2BuZGQCBg8PFgIfBQUGJm5ic3A7ZGQCBw8PFgIfBQUDNC4wZGQCCA8PFgIfBQUCOTNkZAIJDw8WAh8FBQYmbmJzcDtkZAIKDw8WAh8FBQYmbmJzcDtkZAILDw8WAh8FBQ%2ForqHnrpfmnLrlrabpmaJkZAIMDw8WAh8FBQYmbmJzcDtkZAINDw8WAh8FBQYmbmJzcDtkZAIQD2QWHGYPDxYCHwUFHigyMDE3LTIwMTgtMSktQTA1MDI1NzAtNDAzOTItMWRkAgEPDxYCHwUFCTIwMTctMjAxOGRkAgIPDxYCHwUFATFkZAIDDw8WAh8FBQhBMDUwMjU3MGRkAgQPDxYCHwUFCeaVsOaNruW6k2RkAgUPDxYCHwUFDOS4k%2BS4muW%2FheS%2FrmRkAgYPDxYCHwUFBiZuYnNwO2RkAgcPDxYCHwUFAzMuMGRkAggPDxYCHwUFAjkwZGQCCQ8PFgIfBQUGJm5ic3A7ZGQCCg8PFgIfBQUGJm5ic3A7ZGQCCw8PFgIfBQUP6K6h566X5py65a2m6ZmiZGQCDA8PFgIfBQUGJm5ic3A7ZGQCDQ8PFgIfBQUGJm5ic3A7ZGQCEQ9kFhxmDw8WAh8FBR4oMjAxNy0yMDE4LTEpLUIwNTAyNzQwLTA2MDQyLTFkZAIBDw8WAh8FBQkyMDE3LTIwMThkZAICDw8WAh8FBQExZGQCAw8PFgIfBQUIQjA1MDI3NDBkZAIEDw8WAh8FBQ9DKyvnqIvluo%2Forr7orqFkZAIFDw8WAh8FBQzkuJPkuJrpmZDpgIlkZAIGDw8WAh8FBQYmbmJzcDtkZAIHDw8WAh8FBQM0LjBkZAIIDw8WAh8FBQI5NWRkAgkPDxYCHwUFBiZuYnNwO2RkAgoPDxYCHwUFBiZuYnNwO2RkAgsPDxYCHwUFD%2Biuoeeul%2BacuuWtpumZomRkAgwPDxYCHwUFBiZuYnNwO2RkAg0PDxYCHwUFBiZuYnNwO2RkZA%3D%3D&__EVENTVALIDATION=%2FwEWGgLztZ%2FWBwKOwemfDgKOwemfDgKc6PHxDgKf6O1nApbomfIPApnotegBApjoofIMApvo3egOApLoyfINApXopYsNAprozbADAsCqyt4FAsOqjp8DAsKqkt8CAt2q1h8C3Kq63wMC36r%2BnwEC3qrCXwLZqobgAQLYqqrCDgL%2FwOmfDgL%2FwOmfDgLwr8PxAgLxr8PxAgLwksmiDg%3D%3D' \\\n",
    "                  +'&ddlxn=' + xn \\\n",
    "                  +'&ddlxq=' + xq \\\n",
    "                  +'&btnCx=+%B2%E9++%D1%AF+'\n",
    "                 )\n",
    "\n",
    "# r.encoding='gbk'\n",
    "exam = BeautifulSoup(r.text,\"lxml\")\n",
    "\n",
    "# print(soup.get_text())\n",
    "t = exam.find_all(class_=\"datelist\")[0].get_text()\n",
    "\n",
    "# print(t)\n",
    "#定义类，循环存储 \n",
    "class lesson():\n",
    "    def __init__(self,name,id,type_,credit,score,college):\n",
    "        self.name = name\n",
    "        self.id = id\n",
    "        self.type = type\n",
    "        self.credit = credit\n",
    "        self.score = score\n",
    "        self.college = college\n",
    "    def show(self):\n",
    "        print(self.id,'  ',end=' ')\n",
    "#          print(self.id,'\\t',self.name,'\\t\\t',self.type,'\\t',self.credit,'\\t',self.score,'\\t',self.college,'\\t')\n",
    "#         print('%-10s%-20s%-10s%-10s%-10s%-10s'%(self.id,self.name,self.type,self.credit,self.score,self.college))\n",
    "        print('{name:<{len}}'.format(name=self.name,len=45-len(self.name.encode('GBK'))+len(self.name)),end=' ')\n",
    "        print('{type:<{len}}'.format(type=self.type,len=10-len(self.type.encode('GBK'))+len(self.type)),end=' ')\n",
    "        print(self.credit,'\\t',self.score,'\\t',self.college,'\\t')\n",
    "exam_data = []\n",
    "\n",
    "lesson_data_list = exam.find_all(class_=\"datelist\")[0].find_all(\"tr\")[1:] #[0]是标题 从[1]开始是课程信息\n",
    "for lesson_data in lesson_data_list:\n",
    "    td = lesson_data.find_all(\"td\")\n",
    "    name = td[3].get_text()\n",
    "    id = td[2].get_text()\n",
    "    type = td[4].get_text()\n",
    "    credit = td[6].get_text()\n",
    "    score = td[7].get_text()\n",
    "    college = td[10].get_text()\n",
    "    exam_data.append(lesson(name,id,type,credit,score,college))\n",
    "\n",
    "#格式化，循环输出\n",
    "print('\\t\\t\\t\\t\\t%s学年第%s学期学习成绩'%(xn,xq))\n",
    "print('课程代码   ',end=' ')\n",
    "print('{name:<{len}}'.format(name='课程名称',len=45-len('课程名称'.encode('GBK'))+len('课程名称')),end=' ')\n",
    "print('{type:<{len}}'.format(type='课程性质',len=10-len('课程性质'.encode('GBK'))+len('课程性质')),end=' ')\n",
    "print('学分\\t 成绩\\t 开课学院\\t')\n",
    "\n",
    "for lesson_data in exam_data:\n",
    "    lesson_data.show()"
   ]
  },
  {
   "cell_type": "code",
   "execution_count": 11,
   "metadata": {
    "collapsed": false
   },
   "outputs": [
    {
     "name": "stdout",
     "output_type": "stream",
     "text": [
      "Cookie is set to:\n",
      "{'username': 'Ryan', 'loggedin': '1'}\n",
      "-----------\n",
      "Going to profile page...\n"
     ]
    }
   ],
   "source": [
    "import requests\n",
    "params = {'username': 'Ryan', 'password': 'password'}\n",
    "r = requests.post(\"http://pythonscraping.com/pages/cookies/welcome.php\", params)\n",
    "print(\"Cookie is set to:\")\n",
    "print(r.cookies.get_dict())\n",
    "print(\"-----------\")\n",
    "print(\"Going to profile page...\")"
   ]
  }
 ],
 "metadata": {
  "anaconda-cloud": {},
  "kernelspec": {
   "display_name": "Python [conda env:Anaconda3]",
   "language": "python",
   "name": "conda-env-Anaconda3-py"
  },
  "language_info": {
   "codemirror_mode": {
    "name": "ipython",
    "version": 3
   },
   "file_extension": ".py",
   "mimetype": "text/x-python",
   "name": "python",
   "nbconvert_exporter": "python",
   "pygments_lexer": "ipython3",
   "version": "3.5.2"
  }
 },
 "nbformat": 4,
 "nbformat_minor": 1
}
