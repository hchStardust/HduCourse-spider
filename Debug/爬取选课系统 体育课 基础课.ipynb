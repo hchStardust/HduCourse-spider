{
 "cells": [
  {
   "cell_type": "code",
   "execution_count": 2,
   "metadata": {
    "collapsed": false
   },
   "outputs": [
    {
     "name": "stdout",
     "output_type": "stream",
     "text": [
      "请输入课程名：足球\n",
      "课程名称\t教师姓名\t上课时间\t学分\t总量\t余量\t周几\n",
      "体育-足球(男) \t 陈传令 \t 周五第8,9节{第1-17周} \t 1.0 \t 33 \t 0 \t 5\n",
      "体育-足球(男) \t 陈传令 \t 周五第1,2节{第1-17周} \t 1.0 \t 33 \t 0 \t 5\n",
      "体育-足球(男) \t 陈传令 \t 周五第6,7节{第1-17周} \t 1.0 \t 33 \t 0 \t 5\n",
      "体育-足球(男) \t 董加贝 \t 周一第8,9节{第1-17周} \t 1.0 \t 33 \t 0 \t 1\n",
      "体育-足球(男) \t 杨超 \t 周一第1,2节{第1-17周} \t 1.0 \t 33 \t 0 \t 1\n",
      "体育-足球(男) \t 董加贝 \t 周一第3,4节{第1-17周} \t 1.0 \t 33 \t 0 \t 1\n",
      "体育-足球(男) \t 董加贝 \t 周一第6,7节{第1-17周} \t 1.0 \t 33 \t 0 \t 1\n",
      "体育-足球(男) \t 董加贝 \t 周二第1,2节{第1-17周} \t 1.0 \t 33 \t 0 \t 2\n",
      "体育-足球(男) \t 董加贝 \t 周二第3,4节{第1-17周} \t 1.0 \t 33 \t 0 \t 2\n",
      "体育-足球(男) \t 陈传令 \t 周五第3,4节{第1-17周} \t 1.0 \t 33 \t 0 \t 5\n",
      "体育-足球(男) \t 杨超 \t 周一第3,4节{第1-17周} \t 1.0 \t 33 \t 0 \t 1\n"
     ]
    }
   ],
   "source": [
    "import requests\n",
    "from bs4 import BeautifulSoup\n",
    "\n",
    "cookies={'ASP.NET_SessionId': '5iuodz552kh3ru2j0quetu45', 'route': 'acc407ccf2cd41551684a22ae27321f5'}\n",
    "headers = {'Accept': 'text/html,application/xhtml+xml,application/xml;q=0.9,image/webp,image/apng,*/*;q=0.8',\n",
    "            'Accept-Encoding': 'gzip, deflate',\n",
    "            'Accept-Language': 'zh-CN,zh;q=0.9',\n",
    "           'Cache-Control': 'max-age=0',\n",
    "            'Connection': 'keep-alive',\n",
    "           'Content-Length': '7633',\n",
    "            'Content-Type': 'application/x-www-form-urlencoded',\n",
    "           'Origin': 'http://jxgl.hdu.edu.cn',\n",
    "           'Upgrade-Insecure-Requests': '1',\n",
    "            'Host': 'jxgl.hdu.edu.cn',\n",
    "           'User-Agent': 'Mozilla/5.0 (Windows NT 6.1; Win64; x64) AppleWebKit/537.36 (KHTML, like Gecko) Chrome/68.0.3440.106 Safari/537.36',\n",
    "#            'Referer':'http://jxgl.hdu.edu.cn/xscjcx_dq.aspx?xh=16196108&xm=%u80e1%u9648%u6167&gnmkdm=N121605'# 修改\n",
    "          }\n",
    "\n",
    "lesson_name_list = {'篮球':'T1300001','网球':'T1300004','武术':'T1300008','体育舞蹈':'T1300011','无线电测向':'T1300013','排球':'T1300015', \\\n",
    "                   '足球':'T1300018','乒乓球':'T1300019','羽毛球':'T1300020','户外拓展':'T1300026'}\n",
    "lesson_name = '篮球'\n",
    "lesson_name = input('请输入课程名：')\n",
    "daima = lesson_name_list[lesson_name]\n",
    "\n",
    "# xn = input('请输入学年：')\n",
    "# xq = input('请输入学期：')\n",
    "r = requests.post(\"http://jxgl.hdu.edu.cn/xstyk.aspx?xh=16196108&xm=%u80e1%u9648%u6167&gnmkdm=N121102\",# 修改\n",
    "                 cookies=cookies,\n",
    "                 headers=headers,\n",
    "                 data='__EVENTTARGET=ListBox1&__EVENTARGUMENT=&__LASTFOCUS=&__VIEWSTATE=%2FwEPDwUKMTE2NDE1MTI5Nw8WCB4CeG4FCTIwMTgtMjAxOR4CeHEFATEeBHp5ZG0FBDA1MjceBWRxc3pqBQQyMDE2FgICAQ9kFg4CAQ8PFgIeBFRleHQFa%2BWtpuWPtzoxNjE5NjEwOCZuYnNwOyZuYnNwO%2BWnk%2BWQjTrog6HpmYjmhacmbmJzcDsmbmJzcDvlrabpmaI66K6h566X5py65a2m6ZmiJm5ic3A7Jm5ic3A76KGM5pS%2F54%2BtOjE2MDUyNzExZGQCAw8PFgQfBGUeB1Zpc2libGVnZGQCBQ8QZGQWAWZkAgcPEA8WBh4NRGF0YVRleHRGaWVsZAUCa2MeDkRhdGFWYWx1ZUZpZWxkBQRrY2RtHgtfIURhdGFCb3VuZGdkEBUKHVQxMzAwMDAx4oCW5L2T6IKyLeevrueQgyjnlLcpHVQxMzAwMDA04oCW5L2T6IKyLee9keeQgyjnlLcpHVQxMzAwMDA44oCW5L2T6IKyLeatpuacryjnlLcpI1QxMzAwMDEx4oCW5L2T6IKyLeS9k%2BiCsuiInui5iCjnlLcpJlQxMzAwMDEz4oCW5L2T6IKyLeaXoOe6v%2BeUtea1i%2BWQkSjnlLcpHVQxMzAwMDE14oCW5L2T6IKyLeaOkueQgyjnlLcpHVQxMzAwMDE44oCW5L2T6IKyLei2s%2BeQgyjnlLcpIFQxMzAwMDE54oCW5L2T6IKyLeS5kuS5k%2BeQgyjnlLcpIFQxMzAwMDIw4oCW5L2T6IKyLee%2Bveavm%2BeQgyjnlLcpI1QxMzAwMDI24oCW5L2T6IKyLeaIt%2BWkluaLk%2BWxlSjnlLcpFQoIVDEzMDAwMDEIVDEzMDAwMDQIVDEzMDAwMDgIVDEzMDAwMTEIVDEzMDAwMTMIVDEzMDAwMTUIVDEzMDAwMTgIVDEzMDAwMTkIVDEzMDAwMjAIVDEzMDAwMjYUKwMKZ2dnZ2dnZ2dnZxYBAgNkAgsPEA8WBh8GBQJrYx8HBQV0eWtraB8IZ2QQFQiQAeS9k%2BiCsi3kvZPogrLoiJ7ouYgo55S3KeKAljEuMOKAluiRo%2BaZk%2BazouKAluKAluWRqOS4gOesrDEsMuiKgnvnrKwxLTE35ZGofeKAluS9k%2BiCsummhui%2Bhemmhuilv%2BS6jOalvOKAljE34oCWMTfigJYs5YWs5Yqe5pys56eR55S355SfLOKAluS4i%2BaymZAB5L2T6IKyLeS9k%2BiCsuiInui5iCjnlLcp4oCWMS4w4oCW6JGj5pmT5rOi4oCW4oCW5ZGo5LiA56ysOCw56IqCe%2BesrDEtMTflkah94oCW5L2T6IKy6aaG6L6F6aaG6KW%2F5LqM5qW84oCWMTfigJYxN%2BKAlizlhazlip7mnKznp5HnlLfnlJ8s4oCW5LiL5rKZkAHkvZPogrIt5L2T6IKy6Iie6LmIKOeUtynigJYxLjDigJbmnY7li4PooY3igJbigJblkajkuoznrKwxLDLoioJ756ysMS0xN%2BWRqH3igJbkvZPogrLppobovoXppobopb%2FkuozmpbzigJYxN%2BKAljE34oCWLOWFrOWKnuacrOenkeeUt%2BeUnyzigJbkuIvmspmQAeS9k%2BiCsi3kvZPogrLoiJ7ouYgo55S3KeKAljEuMOKAluiRo%2BaZk%2BazouKAluKAluWRqOS4gOesrDMsNOiKgnvnrKwxLTE35ZGofeKAluS9k%2BiCsummhui%2Bhemmhuilv%2BS6jOalvOKAljE34oCWMTfigJYs5YWs5Yqe5pys56eR55S355SfLOKAluS4i%2BaymZAB5L2T6IKyLeS9k%2BiCsuiInui5iCjnlLcp4oCWMS4w4oCW6JGj5pmT5rOi4oCW4oCW5ZGo5LiA56ysNiw36IqCe%2BesrDEtMTflkah94oCW5L2T6IKy6aaG6L6F6aaG6KW%2F5LqM5qW84oCWMTfigJYxN%2BKAlizlhazlip7mnKznp5HnlLfnlJ8s4oCW5LiL5rKZkAHkvZPogrIt5L2T6IKy6Iie6LmIKOeUtynigJYxLjDigJbmnY7li4PooY3igJbigJblkajkuoznrKw2LDfoioJ756ysMS0xN%2BWRqH3igJbkvZPogrLppobovoXppobopb%2FkuozmpbzigJYxN%2BKAljE34oCWLOWFrOWKnuacrOenkeeUt%2BeUnyzigJbkuIvmspmQAeS9k%2BiCsi3kvZPogrLoiJ7ouYgo55S3KeKAljEuMOKAluadjuWLg%2BihjeKAluKAluWRqOS6jOesrDgsOeiKgnvnrKwxLTE35ZGofeKAluS9k%2BiCsummhui%2Bhemmhuilv%2BS6jOalvOKAljE34oCWMTfigJYs5YWs5Yqe5pys56eR55S355SfLOKAluS4i%2BaymZAB5L2T6IKyLeS9k%2BiCsuiInui5iCjnlLcp4oCWMS4w4oCW5p2O5YuD6KGN4oCW4oCW5ZGo5LqM56ysMyw06IqCe%2BesrDEtMTflkah94oCW5L2T6IKy6aaG6L6F6aaG6KW%2F5LqM5qW84oCWMTfigJYxNeKAlizlhazlip7mnKznp5HnlLfnlJ8s4oCW5LiL5rKZFQg%2FNCgyMDE4LTIwMTktMSktVDEzMDAwMTEtMTYxOTYxMDgjKDIwMTgtMjAxOS0xKS1UMTMwMDAxMS00MDA4My0xPzQoMjAxOC0yMDE5LTEpLVQxMzAwMDExLTE2MTk2MTA4IygyMDE4LTIwMTktMSktVDEzMDAwMTEtNDAwODMtND80KDIwMTgtMjAxOS0xKS1UMTMwMDAxMS0xNjE5NjEwOCMoMjAxOC0yMDE5LTEpLVQxMzAwMDExLTQxNjU1LTE%2FNCgyMDE4LTIwMTktMSktVDEzMDAwMTEtMTYxOTYxMDgjKDIwMTgtMjAxOS0xKS1UMTMwMDAxMS00MDA4My0yPzQoMjAxOC0yMDE5LTEpLVQxMzAwMDExLTE2MTk2MTA4IygyMDE4LTIwMTktMSktVDEzMDAwMTEtNDAwODMtMz80KDIwMTgtMjAxOS0xKS1UMTMwMDAxMS0xNjE5NjEwOCMoMjAxOC0yMDE5LTEpLVQxMzAwMDExLTQxNjU1LTM%2FNCgyMDE4LTIwMTktMSktVDEzMDAwMTEtMTYxOTYxMDgjKDIwMTgtMjAxOS0xKS1UMTMwMDAxMS00MTY1NS00PzQoMjAxOC0yMDE5LTEpLVQxMzAwMDExLTE2MTk2MTA4IygyMDE4LTIwMTktMSktVDEzMDAwMTEtNDE2NTUtMhQrAwhnZ2dnZ2dnZ2RkAhAPEA8WBh8GBQJrYx8HBQR4a2toHwhnZBAVABUAFCsDABYAZAIVDw8WAh8EBYQrIGFuZCAobXhkeCBpcyBudWxsIG9yIG14ZHggbGlrZSAnJSwnfHwnMTYxOTYxMDgnfHwnLCUnICAgICAgICAgICAgb3IgbXhkeCBsaWtlICclLCd8fCfova%2Fku7blt6XnqIsnfHwnLCUnICAgICAgb3IgbXhkeCBsaWtlICclLCd8fCcyMDE257qn6L2v5Lu25bel56iLJ3x8JywlJyAgICBvciBteGR4IGxpa2UgJyUsJ3x8J%2BWFrOWKnuacrOenkSd8fCcsJScgICAgICAgICBvciBteGR4IGxpa2UgJyUsJ3x8J%2BWFrOWKnuacrOenkTIwMTbnuqcnfHwnLCUnICAgICAgICAgIG9yIG14ZHggbGlrZSAnJSwnfHwn5YWs5Yqe5pys56eR55S355SfJ3x8JywlJyAgICAgICAgICBvciBteGR4IGxpa2UgJyUsJ3x8J%2BWFrOWKnuacrOenkeiuoeeul%2BacuuWtpumZoid8fCcsJScgICAgICAgICAgb3IgbXhkeCBsaWtlICclLCd8fCflhazlip7mnKznp5EyMDE257qn6K6h566X5py65a2m6ZmiJ3x8JywlJyAgICAgICAgb3IgbXhkeCBsaWtlICclLCd8fCflhazlip7mnKznp5EyMDE257qn55S355SfJ3x8JywlJyAgICAgICAgb3IgbXhkeCBsaWtlICclLCd8fCflhazlip7mnKznp5HorqHnrpfmnLrlrabpmaLnlLfnlJ8nfHwnLCUnICAgICAgICBvciBteGR4IGxpa2UgJyUsJ3x8J%2BWFrOWKnuacrOenkTIwMTbnuqforqHnrpfmnLrlrabpmaLnlLfnlJ8nfHwnLCUnICAgICAgb3IgbXhkeCBsaWtlICclLCd8fCcyMDE257qnJ3x8JywlJyAgICAgICAgICBvciBteGR4IGxpa2UgJyUsJ3x8J%2Biuoeeul%2BacuuWtpumZoid8fCcsJScgICAgICAgICBvciBteGR4IGxpa2UgJyUsJ3x8J%2Bi9r%2BS7tuW3peeoiyd8fCcsJScgICAgICAgICBvciBteGR4IGxpa2UgJyUsJ3x8JzE2MDUyNzExJ3x8JywlJyAgICAgICAgIG9yIG14ZHggbGlrZSAnJSwnfHwn55S355SfJ3x8JywlJyAgICAgICAgIG9yIG14ZHggbGlrZSAnJSwnfHwnMjAxNue6p%2Biuoeeul%2BacuuWtpumZoid8fCcsJScgICAgICAgIG9yIG14ZHggbGlrZSAnJSwnfHwnMjAxNue6p%2Bi9r%2BS7tuW3peeoiyd8fCcsJScgICAgICAgIG9yIG14ZHggbGlrZSAnJSwnfHwnMjAxNue6p%2BeUt%2BeUnyd8fCcsJScgICAgICAgIG9yIG14ZHggbGlrZSAnJSwnfHwn6K6h566X5py65a2m6Zmi55S355SfJ3x8JywlJyAgICAgICAgb3IgbXhkeCBsaWtlICclLCd8fCfova%2Fku7blt6XnqIvnlLfnlJ8nfHwnLCUnICAgICAgICBvciBteGR4IGxpa2UgJyUsJ3x8JzE2MDUyNzEx55S355SfJ3x8JywlJyAgICAgICAgb3IgbXhkeCBsaWtlICclLCd8fCcyMDE257qn6K6h566X5py65a2m6Zmi55S355SfJ3x8JywlJyAgICAgIG9yIG14ZHggbGlrZSAnJSwnfHwnMjAxNue6p%2Bi9r%2BS7tuW3peeoi%2BeUt%2BeUnyd8fCcsJScgICAgb3IgbXhkeCBsaWtlICclLCd8fCcyMDE257qnJ3x8JywlJyAgICAgICBvciBteGR4IGxpa2UgJyUsJ3x8J%2Biuoeeul%2BacuuWtpumZoid8fCcsJScgICAgICAgb3IgbXhkeCBsaWtlICclLCd8fCfova%2Fku7blt6XnqIsnfHwnLCUnICAgICAgIG9yIG14ZHggbGlrZSAnJSwnfHwnMTYwNTI3MTEnfHwnLCUnICAgICAgIG9yIG14ZHggbGlrZSAnJSwnfHwnMjAxNue6p%2Biuoeeul%2BacuuWtpumZoid8fCcsJScgICAgIG9yIG14ZHggbGlrZSAnJSwnfHwnMjAxNue6p%2Bi9r%2BS7tuW3peeoiyd8fCcsJScgICBvciBteGR4IGxpa2UgJyUsJ3x8Jyd8fCcsJScgICAgIG9yIG14ZHggbGlrZSAnJSwnfHwn5YWs5Yqe5pys56eRJ3x8JywlJyAgICAgICAgIG9yIG14ZHggbGlrZSAnJSwnfHwn5YWs5Yqe5pys56eRMjAxNue6pyd8fCcsJScgICAgICAgb3IgbXhkeCBsaWtlICclLCd8fCflhazlip7mnKznp5HorqHnrpfmnLrlrabpmaInfHwnLCUnICAgICAgIG9yIG14ZHggbGlrZSAnJSwnfHwn5YWs5Yqe5pys56eRMjAxNue6p%2Biuoeeul%2BacuuWtpumZoid8fCcsJScgICAgIG9yIG14ZHggbGlrZSAnJSwnfHwnMjAxNue6p%2BeUt%2BeUnyd8fCcsJScgICAgICAgb3IgbXhkeCBsaWtlICclLCd8fCforqHnrpfmnLrlrabpmaLnlLfnlJ8nfHwnLCUnICAgICBvciBteGR4IGxpa2UgJyUsJ3x8J%2Bi9r%2BS7tuW3peeoi%2BeUt%2BeUnyd8fCcsJScgICBvciBteGR4IGxpa2UgJyUsJ3x8JzE2MDUyNzEx55S355SfJ3x8JywlJyAgICAgb3IgbXhkeCBsaWtlICclLCd8fCcyMDE257qn6K6h566X5py65a2m6Zmi55S355SfJ3x8JywlJyAgICAgICAgIG9yIG14ZHggbGlrZSAnJSwnfHwnMjAxNue6p%2Bi9r%2BS7tuW3peeoi%2BeUt%2BeUnyd8fCcsJScgICAgICAgb3IgbXhkeCBsaWtlICclLCd8fCflhazlip7mnKznp5HnlLfnlJ8nfHwnLCUnICAgICAgIG9yIG14ZHggbGlrZSAnJSwnfHwn5YWs5Yqe5pys56eRMjAxNue6p%2BeUt%2BeUnyd8fCcsJScgICAgIG9yIG14ZHggbGlrZSAnJSwnfHwn5YWs5Yqe5pys56eR6K6h566X5py65a2m6Zmi55S355SfJ3x8JywlJyAgICAgICBvciBteGR4IGxpa2UgJyUsJ3x8J%2BWFrOWKnuacrOenkTIwMTbnuqforqHnrpfmnLrlrabpmaLnlLfnlJ8nfHwnLCUnICAgICBvciBteGR4IGxpa2UgJyUsJ3x8J%2Bi9r%2BS7tuW3peeoiyd8fCcsJScgICAgICAgb3IgbXhkeCBsaWtlICclLCd8fCcyMDE257qn6L2v5Lu25bel56iLJ3x8JywlJyAgICBvciBteGR4IGxpa2UgJyUsJ3x8J%2BacrOenkeeUnyd8fCcsJScgICAgICAgb3IgbXhkeCBsaWtlICclLCd8fCcyMDE257qn5pys56eR55SfJ3x8JywlJyAgICBvciBteGR4IGxpa2UgJyUsJ3x8J%2Biuoeeul%2BacuuWtpumZoid8fCcsJScpICAgICAgYW5kICh4emR4IGlzIG51bGwgb3IgeHpkeCBub3QgbGlrZSAnJSwnfHwnMTYxOTYxMDgnfHwnLCUnICAgICAgICBhbmQgeHpkeCBub3QgbGlrZSAnJSwnfHwn6L2v5Lu25bel56iLJ3x8JywlJyAgYW5kIHh6ZHggbm90IGxpa2UgJyUsJ3x8JzIwMTbnuqfova%2Fku7blt6XnqIsnfHwnLCUnIGFuZCB4emR4IG5vdCBsaWtlICclLCd8fCflhazlip7mnKznp5EnfHwnLCUnICAgICBhbmQgeHpkeCBub3QgbGlrZSAnJSwnfHwn5YWs5Yqe5pys56eRMjAxNue6pyd8fCcsJScgICAgICBhbmQgeHpkeCBub3QgbGlrZSAnJSwnfHwn5YWs5Yqe5pys56eR55S355SfJ3x8JywlJyAgICAgIGFuZCB4emR4IG5vdCBsaWtlICclLCd8fCflhazlip7mnKznp5HorqHnrpfmnLrlrabpmaInfHwnLCUnICAgICAgYW5kIHh6ZHggbm90IGxpa2UgJyUsJ3x8J%2BWFrOWKnuacrOenkTIwMTbnuqforqHnrpfmnLrlrabpmaInfHwnLCUnICAgIGFuZCB4emR4IG5vdCBsaWtlICclLCd8fCflhazlip7mnKznp5EyMDE257qn55S355SfJ3x8JywlJyAgICBhbmQgeHpkeCBub3QgbGlrZSAnJSwnfHwn5YWs5Yqe5pys56eR6K6h566X5py65a2m6Zmi55S355SfJ3x8JywlJyAgICBhbmQgeHpkeCBub3QgbGlrZSAnJSwnfHwn5YWs5Yqe5pys56eRMjAxNue6p%2Biuoeeul%2BacuuWtpumZoueUt%2BeUnyd8fCcsJScgIGFuZCB4emR4IG5vdCBsaWtlICclLCd8fCcyMDE257qnJ3x8JywlJyAgICAgIGFuZCB4emR4IG5vdCBsaWtlICclLCd8fCforqHnrpfmnLrlrabpmaInfHwnLCUnICAgICBhbmQgeHpkeCBub3QgbGlrZSAnJSwnfHwn6L2v5Lu25bel56iLJ3x8JywlJyAgICAgYW5kIHh6ZHggbm90IGxpa2UgJyUsJ3x8JzE2MDUyNzExJ3x8JywlJyAgICAgYW5kIHh6ZHggbm90IGxpa2UgJyUsJ3x8J%2BeUt%2BeUnyd8fCcsJScgICAgIGFuZCB4emR4IG5vdCBsaWtlICclLCd8fCcyMDE257qn6K6h566X5py65a2m6ZmiJ3x8JywlJyAgICBhbmQgeHpkeCBub3QgbGlrZSAnJSwnfHwnMjAxNue6p%2Bi9r%2BS7tuW3peeoiyd8fCcsJScgICAgYW5kIHh6ZHggbm90IGxpa2UgJyUsJ3x8JzIwMTbnuqfnlLfnlJ8nfHwnLCUnICAgIGFuZCB4emR4IG5vdCBsaWtlICclLCd8fCforqHnrpfmnLrlrabpmaLnlLfnlJ8nfHwnLCUnICAgIGFuZCB4emR4IG5vdCBsaWtlICclLCd8fCfova%2Fku7blt6XnqIvnlLfnlJ8nfHwnLCUnICAgIGFuZCB4emR4IG5vdCBsaWtlICclLCd8fCcxNjA1MjcxMeeUt%2BeUnyd8fCcsJScgICAgYW5kIHh6ZHggbm90IGxpa2UgJyUsJ3x8JzIwMTbnuqforqHnrpfmnLrlrabpmaLnlLfnlJ8nfHwnLCUnICBhbmQgeHpkeCBub3QgbGlrZSAnJSwnfHwnMjAxNue6p%2Bi9r%2BS7tuW3peeoi%2BeUt%2BeUnyd8fCcsJScgIGFuZCB4emR4IG5vdCAgbGlrZSAnJSwnfHwnMjAxNue6pyd8fCcsJScgICAgICAgYW5kIHh6ZHggbm90ICBsaWtlICclLCd8fCforqHnrpfmnLrlrabpmaInfHwnLCUnICAgICAgIGFuZCB4emR4IG5vdCAgbGlrZSAnJSwnfHwn6L2v5Lu25bel56iLJ3x8JywlJyAgICAgICBhbmQgeHpkeCBub3QgIGxpa2UgJyUsJ3x8JzE2MDUyNzExJ3x8JywlJyAgICAgICBhbmQgeHpkeCBub3QgIGxpa2UgJyUsJ3x8JzIwMTbnuqforqHnrpfmnLrlrabpmaInfHwnLCUnICAgICBhbmQgeHpkeCBub3QgIGxpa2UgJyUsJ3x8JzIwMTbnuqfova%2Fku7blt6XnqIsnfHwnLCUnICAgIGFuZCB4emR4IG5vdCAgbGlrZSAnJSwnfHwnJ3x8JywlJyAgICAgYW5kIHh6ZHggbm90ICBsaWtlICclLCd8fCflhazlip7mnKznp5EnfHwnLCUnICAgICAgICAgYW5kIHh6ZHggbm90ICBsaWtlICclLCd8fCflhazlip7mnKznp5EyMDE257qnJ3x8JywlJyAgICAgICBhbmQgeHpkeCBub3QgIGxpa2UgJyUsJ3x8J%2BWFrOWKnuacrOenkeiuoeeul%2BacuuWtpumZoid8fCcsJScgICAgICAgYW5kIHh6ZHggbm90ICBsaWtlICclLCd8fCflhazlip7mnKznp5EyMDE257qn6K6h566X5py65a2m6ZmiJ3x8JywlJyAgICAgYW5kIHh6ZHggbm90ICAgbGlrZSAnJSwnfHwnMjAxNue6p%2BeUt%2BeUnyd8fCcsJScgICAgICAgYW5kIHh6ZHggbm90ICAgbGlrZSAnJSwnfHwn6K6h566X5py65a2m6Zmi55S355SfJ3x8JywlJyAgICAgYW5kIHh6ZHggbm90ICAgbGlrZSAnJSwnfHwn6L2v5Lu25bel56iL55S355SfJ3x8JywlJyAgICBhbmQgeHpkeCBub3QgICBsaWtlICclLCd8fCcxNjA1MjcxMeeUt%2BeUnyd8fCcsJScgICAgIGFuZCB4emR4IG5vdCAgIGxpa2UgJyUsJ3x8JzIwMTbnuqforqHnrpfmnLrlrabpmaLnlLfnlJ8nfHwnLCUnICAgICAgICAgYW5kIHh6ZHggbm90ICAgbGlrZSAnJSwnfHwnMjAxNue6p%2Bi9r%2BS7tuW3peeoi%2BeUt%2BeUnyd8fCcsJScgICAgICAgYW5kIHh6ZHggbm90ICAgbGlrZSAnJSwnfHwn5YWs5Yqe5pys56eR55S355SfJ3x8JywlJyAgICAgICBhbmQgeHpkeCBub3QgICBsaWtlICclLCd8fCflhazlip7mnKznp5EyMDE257qn55S355SfJ3x8JywlJyAgICAgYW5kIHh6ZHggbm90ICAgbGlrZSAnJSwnfHwn5YWs5Yqe5pys56eR6K6h566X5py65a2m6Zmi55S355SfJ3x8JywlJyAgICAgICBhbmQgeHpkeCBub3QgICBsaWtlICclLCd8fCflhazlip7mnKznp5EyMDE257qn6K6h566X5py65a2m6Zmi55S355SfJ3x8JywlJyAgICAgYW5kIHh6ZHggbm90IGxpa2UgJyUsJ3x8J%2Bi9r%2BS7tuW3peeoiyd8fCcsJScgICAgICAgYW5kIHh6ZHggbm90ICBsaWtlICclLCd8fCcyMDE257qn6L2v5Lu25bel56iLJ3x8JywlJyAgICAgYW5kIHh6ZHggbm90IGxpa2UgJyUsJ3x8J%2BacrOenkeeUnyd8fCcsJScgICAgICAgYW5kIHh6ZHggbm90ICBsaWtlICclLCd8fCcyMDE257qn5pys56eR55SfJ3x8JywlJyAgICAgYW5kIHh6ZHggbm90ICBsaWtlICclLCd8fCforqHnrpfmnLrlrabpmaInfHwnLCUnKSAgICAgZGRk&__EVENTVALIDATION=%2FwEWJALuhvSfDQKd5I%2FlCgLKu7%2B%2BBwLqwcT7CgLXwNSmCQK9ueOMCQLmm8f3AQLmm6O%2FBALmm5PKAwL9gOXqBwL9gL2jBAL9gNX1AgL9gLG9CQL9gAUCrMyoxg0CrMywqwkChdn12wMC%2BJajPQKr0vr%2BAwL89qv%2FBgLJyo39DgKy5O%2FgBALKmO%2FVAgKH%2BNDiCwLhgY3iDAL444i9AQLn44i9AQL3jKLTDQL2jM%2BbAgK9ubvWBwKS%2B9acCwKM54rGBgK7q7GGCAKgwpPxDQLejczkBgKgpuLGBA%3D%3D&DropDownList1=%CF%EE%C4%BF&' \\\n",
    "                  +'ListBox1=' + daima +'&txtYz=&hidNJ=2016&hidZYDM=0527'\n",
    "                 )\n",
    "exam = BeautifulSoup(r.text,\"lxml\")\n",
    "# print(r.text)\n",
    "sport_lesson_list = exam.find_all(id=\"ListBox2\")[0].find_all('option')\n",
    "\n",
    "class Sport_lesson():\n",
    "    def __init__(self,name,teacher,time,credit,total,remain,weekday):\n",
    "        self.name = name\n",
    "        self.teacher = teacher\n",
    "        self.time = time\n",
    "        self.credit = credit\n",
    "        self.total = total\n",
    "        self.remain = remain\n",
    "        self.weekday = weekday\n",
    "    def show(self):\n",
    "        print(self.name,'\\t',self.teacher,'\\t',self.time,'\\t',self.credit,'\\t',self.total,'\\t',self.remain,'\\t',self.weekday)\n",
    "    \n",
    "sport_lesson = []\n",
    "for sport_data in sport_lesson_list:\n",
    "    text = sport_data.get_text()\n",
    "    text_list = text.split('‖')\n",
    "    name = text_list[0]\n",
    "    credit = text_list[1]\n",
    "    teacher = text_list[2]\n",
    "    time = text_list[4]\n",
    "    total = text_list[6]\n",
    "    remain = int(total) - int(text_list[7])\n",
    "    # python 没有switch case\n",
    "    week = {'一':1,'二':2,'三':3,'四':4,'五':5}\n",
    "    weekday = week[time[1]]\n",
    "    sport_lesson.append(Sport_lesson(name,teacher,time,credit,total,remain,weekday))\n",
    "\n",
    "if len(sport_lesson) > 0:\n",
    "    print('课程名称\\t教师姓名\\t上课时间\\t学分\\t总量\\t余量\\t周几')\n",
    "    for sport_data in sport_lesson:\n",
    "        sport_data.show()\n",
    "elif len(sport_lesson) == 0:\n",
    "    print(\"无可选课程\")"
   ]
  },
  {
   "cell_type": "markdown",
   "metadata": {},
   "source": [
    "## 搜索基础课"
   ]
  },
  {
   "cell_type": "code",
   "execution_count": 4,
   "metadata": {
    "collapsed": false
   },
   "outputs": [
    {
     "name": "stdout",
     "output_type": "stream",
     "text": [
      "请输入课程名：形势\n",
      "形势与政策（上） A2301191 1.0 http://jxgl.hdu.edu.cn/xsxjs.aspx?xkkh=21F88EB8F10DAFC20A72BE19254AEF97B72082677ED7ABD0CE6EFFA329030C27&xh=16196108\n",
      "形势与政策（1） Y2300011 2.0 http://jxgl.hdu.edu.cn/xsxjs.aspx?xkkh=21F88EB8F10DAFC2ED1BCEDA6BD39119FB4BAAD7A67D6C56A5FBDC6FA7593805&xh=16196108\n",
      "形势与政策3 W0001033 0.5 http://jxgl.hdu.edu.cn/xsxjs.aspx?xkkh=21F88EB8F10DAFC231AE72D3FA1F5887E2FA2B4BB71CA911B3EF2DA3804A98DB&xh=16196108\n",
      "形势与政策1 W0001031 0.5 http://jxgl.hdu.edu.cn/xsxjs.aspx?xkkh=21F88EB8F10DAFC231AE72D3FA1F58874FF6FC64156F49F361516CDB17ECBDD3&xh=16196108\n",
      "请选择：3\n",
      "http://jxgl.hdu.edu.cn/xsxjs.aspx?xkkh=21F88EB8F10DAFC231AE72D3FA1F5887E2FA2B4BB71CA911B3EF2DA3804A98DB&xh=16196108\n"
     ]
    }
   ],
   "source": [
    "import requests\n",
    "from bs4 import BeautifulSoup\n",
    "\n",
    "cookies={'route': 'e7759f083d378998b4172b21ddde1865', 'ASP.NET_SessionId': '3siwhbnmcabgoyqwtlnqv4ml'}\n",
    "headers = {'Accept': 'text/html,application/xhtml+xml,application/xml;q=0.9,image/webp,image/apng,*/*;q=0.8',\n",
    "            'Accept-Encoding': 'gzip, deflate',\n",
    "            'Accept-Language': 'zh-CN,zh;q=0.9',\n",
    "           'Cache-Control': 'max-age=0',\n",
    "            'Connection': 'keep-alive',\n",
    "           'Content-Length': '7633',\n",
    "            'Content-Type': 'application/x-www-form-urlencoded',\n",
    "           'Origin': 'http://jxgl.hdu.edu.cn',\n",
    "           'Upgrade-Insecure-Requests': '1',\n",
    "            'Host': 'jxgl.hdu.edu.cn',\n",
    "           'User-Agent': 'Mozilla/5.0 (Windows NT 6.1; Win64; x64) AppleWebKit/537.36 (KHTML, like Gecko) Chrome/68.0.3440.106 Safari/537.36',\n",
    "#            'Referer':'http://jxgl.hdu.edu.cn/xscjcx_dq.aspx?xh=16196108&xm=%u80e1%u9648%u6167&gnmkdm=N121605'# 修改\n",
    "          }\n",
    "    \n",
    "import urllib\n",
    "lesson_name = input('请输入课程名：')\n",
    "lesson_name = lesson_name.encode('gb2312')\n",
    "lesson_name = urllib.parse.quote(lesson_name)\n",
    "# print(lesson_name)\n",
    "\n",
    "# daima = lesson_name_list[lesson_name]\n",
    "\n",
    "url = 'http://jxgl.hdu.edu.cn/zylb.aspx?xh=16196108&nj=2016'\n",
    "r = requests.post(url,# 修改\n",
    "                 cookies=cookies,\n",
    "                 headers=headers,\n",
    "                 data='__EVENTTARGET=&__EVENTARGUMENT=&__LASTFOCUS=&__VIEWSTATE=%2FwEPDwUKLTU5NTgzNTgxMg8WBB4CeG4FCTIwMTgtMjAxOR4CeHEFATEWAgIBD2QWEAIBDxAPFgIeB0NoZWNrZWRoZGRkZAICDxAPFgIfAmhkZGRkAgMPEA8WAh8CZ2RkZGQCBQ8WAh4Fc3R5bGUFDGRpc3BsYXk6bm9uZRYCZg9kFgQCAQ8QDxYGHg1EYXRhVGV4dEZpZWxkBQR4eW1jHg5EYXRhVmFsdWVGaWVsZAUEeHlkbR4LXyFEYXRhQm91bmRnZBAVGRLmnLrmorDlt6XnqIvlrabpmaIM566h55CG5a2m6ZmiEueUteWtkOS%2FoeaBr%2BWtpumZog%2ForqHnrpfmnLrlrabpmaIP6Ieq5Yqo5YyW5a2m6ZmiCeeQhuWtpumZohLpgJrkv6Hlt6XnqIvlrabpmaIP5aSW5Zu96K%2Bt5a2m6ZmiEuS6uuaWh%2BS4juazleWtpumZog%2FkvZPogrLmlZnlrabpg6gM5Lya6K6h5a2m6ZmiDOe7j%2Ba1juWtpumZoiHljZPotorlrabpmaLjgIHliJvmlrDliJvkuJrlrabpmaIh55Sf5ZG95L%2Bh5oGv5LiO5Luq5Zmo5bel56iL5a2m6ZmiG%2BadkOaWmeS4jueOr%2BWig%2BW3peeoi%2BWtpumZoiHmlbDlrZflqpLkvZPkuI7oibrmnK%2Forr7orqHlrabpmaIV6ams5YWL5oCd5Li75LmJ5a2m6ZmiLee9kee7nOepuumXtOWuieWFqOWtpumZouOAgea1meaxn%2BS%2FneWvhuWtpumZogblm6Llp5Qw5pys56eR55Sf6Zmi44CB5YWa5aeU5a2m55Sf5bel5L2c6YOo4oCU5pWZ5Yqh5aSEQuacrOenkeeUn%2BmZouOAgeWFmuWnlOWtpueUn%2BW3peS9nOmDqOKAlOWtpueUn%2BWkhOOAgeS6uuawkeatpuijhemDqAnlm77kuabppoYJ5qCh5Yy76ZmiNOacrOenkeeUn%2BmZouOAgeWFmuWnlOWtpueUn%2BW3peS9nOmDqC3mi5vnlJ%2FlsLHkuJrlpIQM5Y2T6LaK5a2m6ZmiFRkCMDECMDMCMDQCMDUCMDYCMDcCMDgCMTECMTICMTMCMTQCMTUCMTgCMTkCMjACMjICMjMCMjcCNTYCNTkCNjUCNzECNzUCODQCODUUKwMZZ2dnZ2dnZ2dnZ2dnZ2dnZ2dnZ2dnZ2dnZxYBZmQCAg8PFgIeBFRleHQFCDE2MTk2MTA4ZGQCBw8WAh8DBQxkaXNwbGF5Om5vbmUWAmYPZBYCZg8QDxYGHwQFBHp5bWMfBQUEenlkbR8GZ2QQFQQh5py65qKw6K6%2B6K6h5Yi26YCg5Y%2BK5YW26Ieq5Yqo5YyWDOi9pui%2BhuW3peeoixXmtbfmtIvlt6XnqIvkuI7mioDmnK845py65qKw6K6%2B6K6h5Yi26YCg5Y%2BK5YW26Ieq5Yqo5YyWKOWNk%2Bi2iuW3peeoi%2BW4iOiuoeWIkikVBAQwMTAxBDAxMDUEMDE5MAQwMTk3FCsDBGdnZ2dkZAIJDxYCHwMFDWRpc3BsYXk6YmxvY2sWAgIFDzwrAAsAZAILDxYCHwMFDGRpc3BsYXk6bm9uZRYCZg9kFgICAQ8QDxYGHwQFAm5qHwUFAm5qHwZnZBAVEwQyMDE4BDIwMTcEMjAxNgQyMDE1BDIwMTQEMjAxMwQyMDEyBDIwMTEEMjAxMAQyMDA5BDIwMDgEMjAwNwQyMDA2BDIwMDUEMjAwNAQyMDAzBDIwMDIEMjAwMQQyMDAwFRMEMjAxOAQyMDE3BDIwMTYEMjAxNQQyMDE0BDIwMTMEMjAxMgQyMDExBDIwMTAEMjAwOQQyMDA4BDIwMDcEMjAwNgQyMDA1BDIwMDQEMjAwMwQyMDAyBDIwMDEEMjAwMBQrAxNnZ2dnZ2dnZ2dnZ2dnZ2dnZ2dnFgECAmQCDQ8WAh8DBQxkaXNwbGF5Om5vbmVkGAEFHl9fQ29udHJvbHNSZXF1aXJlUG9zdEJhY2tLZXlfXxYFBQJ6eAUCengFAmZ4BQJmeAUCY3g%3D&__EVENTVALIDATION=%2FwEWPgLvwa9ZAg4CYmYCnuSP5QoCjovpiAYCjovRiAYCjovViAYCjovZiAYCjovdiAYCjovBiAYCjouFiwYCkYvpiAYCkYvtiAYCkYvRiAYCkYvViAYCkYvZiAYCkYuFiwYCkYuJiwYCkIvliAYCkIvtiAYCkIvRiAYCkIvBiAYClYvdiAYClYuJiwYClIvZiAYCl4vpiAYCl4vZiAYChovViAYChovZiAYCl5fWoA4Cl5eGsw0C0PSb%2FgEC0PSP%2BAIC7NGy6wYC%2BOOIvQEC%2BeOIvQEC%2BuOIvQEC94yi0w0C1pTPmwICneSP5QoC3vOEkwUC3vPQ%2BwcC3vP8nA8C3vOIsAQC3vOU1Q0C3vOg7goC3vPMgwIC3vPYpAsC3vPkeQK1ytbgBwK1yuKFDwK1ys7sCQK1ytqBAQK1yubaDgK1yvL%2FBwK1yp6TDwK1yqq0BAK1yrbJDQK1ysLiCgKM54rGBgK7q7GGCA%3D%3D&' \\\n",
    "                  +'cx=cx&DropDownList2=01&' \\\n",
    "                  +'TextBox1=' + lesson_name + '&RadioButtonList1=2&Button3=%C8%B7%B6%A8&DropDownList1=2016'\n",
    "                 )\n",
    "soup = BeautifulSoup(r.text,\"lxml\")\n",
    "result_list = soup.find_all(class_=\"datelist\")[0].find_all('tr')[1:]\n",
    "\n",
    "# print(type(result.find_all('td')[0].a['onclick']))\n",
    "\n",
    "class Lesson_search_result():\n",
    "    def __init__(self,name,id,credit,url):\n",
    "        self.name = name\n",
    "        self.id = id\n",
    "        self.credit = credit\n",
    "        self.url = url\n",
    "        \n",
    "import re\n",
    "\n",
    "lesson_search_result_list = []\n",
    "\n",
    "for result in result_list:\n",
    "    name = result.find_all('td')[0].get_text()\n",
    "    id = result.find_all('td')[1].get_text()\n",
    "    credit = result.find_all('td')[2].get_text()\n",
    "    url = result.find_all('td')[0].a['onclick']\n",
    "    url = 'http://jxgl.hdu.edu.cn/' + re.search(\"xsxjs.*xh=\",url).group() + '16196108'\n",
    "    lesson_search_result_list.append(Lesson_search_result(name,id,credit,url))\n",
    "    print(name,id,credit)\n",
    "\n",
    "index = int(input(\"请选择：\"))\n",
    "url = lesson_search_result_list[index-1].url\n",
    "print(url)\n",
    "# print(result_list)"
   ]
  },
  {
   "cell_type": "code",
   "execution_count": 5,
   "metadata": {
    "collapsed": false
   },
   "outputs": [],
   "source": [
    "headers = {'Accept': 'text/html,application/xhtml+xml,application/xml;q=0.9,image/webp,image/apng,*/*;q=0.8',\n",
    "#             'Accept-Encoding': 'gzip, deflate',\n",
    "#             'Accept-Language':'zh-CN,zh;q=0.9',\n",
    "#            'Cache-Control': 'max-age=0',\n",
    "#             'Connection': 'keep-alive',\n",
    "#            'Content-Length': '7633',\n",
    "#             'Content-Type': 'application/x-www-form-urlencoded',\n",
    "           'Origin': 'http://jxgl.hdu.edu.cn',\n",
    "#            'Upgrade-Insecure-Requests': '1',\n",
    "            'Host': 'jxgl.hdu.edu.cn',\n",
    "#            'User-Agent': 'Mozilla/5.0 (Windows NT 6.1; Win64; x64) AppleWebKit/537.36 (KHTML, like Gecko) Chrome/68.0.3440.106 Safari/537.36',\n",
    "#            'Referer':'http://jxgl.hdu.edu.cn/zylb.aspx?xh=16196108&nj=2016'# 修改\n",
    "          }\n",
    "\n",
    "r = requests.get(url,cookies=cookies)\n",
    "# print(r.text)"
   ]
  },
  {
   "cell_type": "code",
   "execution_count": 6,
   "metadata": {
    "collapsed": false
   },
   "outputs": [
    {
     "name": "stdout",
     "output_type": "stream",
     "text": [
      "课程名称\t教师姓名\t上课时间\t学分\t总量\t余量\t周几\n",
      "形势与政策3 \t 冯尉瑾/郝晓斌 \t 周五第6,7节{第4-16周|双周} \t 0.5 \t 120 \t 30 \t 5\n",
      "形势与政策3 \t 程斯纳 \t 周一第6,7节{第4-16周|双周} \t 0.5 \t 120 \t 19 \t 1\n",
      "形势与政策3 \t 张晓泉 \t 周三第6,7节{第3-17周|单周} \t 0.5 \t 120 \t 94 \t 3\n",
      "形势与政策3 \t 范红丹 \t 周二第10,11节{第3-17周|单周} \t 0.5 \t 120 \t 18 \t 2\n",
      "形势与政策3 \t 张晓泉 \t 周三第6,7节{第4-16周|双周} \t 0.5 \t 120 \t 33 \t 3\n"
     ]
    }
   ],
   "source": [
    "soup = BeautifulSoup(r.text,\"lxml\")\n",
    "\n",
    "name_credit = soup.find_all(id=\"Label1\")[0].get_text()\n",
    "lesson_name = name_credit.split()[0][5:]\n",
    "lesson_credit = name_credit.split()[1][3:]\n",
    "\n",
    "lesson_data_list = soup.find_all(id=\"xjs_table\")[0].find_all(\"tr\")[1:]\n",
    "\n",
    "class Lesson():\n",
    "    def __init__(self,name,teacher,time,credit,total,remain,weekday):\n",
    "        self.name = name\n",
    "        self.teacher = teacher\n",
    "        self.time = time\n",
    "        self.credit = credit\n",
    "        self.total = total\n",
    "        self.remain = remain\n",
    "        self.weekday = weekday\n",
    "    def show(self):\n",
    "        print(self.name,'\\t',self.teacher,'\\t',self.time,'\\t',self.credit,'\\t',self.total,'\\t',self.remain,'\\t',self.weekday)\n",
    "    \n",
    "lesson = []\n",
    "\n",
    "for lesson_data in lesson_data_list:\n",
    "    td = lesson_data.find_all(\"td\")\n",
    "    name = lesson_name\n",
    "    credit = lesson_credit\n",
    "    teacher = td[1].get_text()\n",
    "    time = td[5].get_text()\n",
    "    total = td[11].get_text()\n",
    "    remain = int(total) - int(td[13].get_text())\n",
    "    week = {'一':1,'二':2,'三':3,'四':4,'五':5}\n",
    "    weekday = week[time[1]]\n",
    "    lesson.append(Lesson(name,teacher,time,credit,total,remain,weekday))\n",
    "    \n",
    "if len(lesson) > 0:\n",
    "    print('课程名称\\t教师姓名\\t上课时间\\t学分\\t总量\\t余量\\t周几')\n",
    "    for data in lesson:\n",
    "        if(int(data.remain)>0):\n",
    "            data.show()\n",
    "elif len(lesson) == 0:\n",
    "    print(\"无可选课程\")"
   ]
  },
  {
   "cell_type": "code",
   "execution_count": null,
   "metadata": {
    "collapsed": true
   },
   "outputs": [],
   "source": []
  }
 ],
 "metadata": {
  "anaconda-cloud": {},
  "kernelspec": {
   "display_name": "Python [conda env:Anaconda3]",
   "language": "python",
   "name": "conda-env-Anaconda3-py"
  },
  "language_info": {
   "codemirror_mode": {
    "name": "ipython",
    "version": 3
   },
   "file_extension": ".py",
   "mimetype": "text/x-python",
   "name": "python",
   "nbconvert_exporter": "python",
   "pygments_lexer": "ipython3",
   "version": "3.5.2"
  }
 },
 "nbformat": 4,
 "nbformat_minor": 1
}
